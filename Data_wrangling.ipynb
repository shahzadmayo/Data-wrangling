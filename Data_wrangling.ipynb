{
 "cells": [
  {
   "cell_type": "markdown",
   "metadata": {},
   "source": [
    "# How to Data Wrangling or Data Pre-Processing/ Data Manipulation\n",
    "## Steps:\n",
    "### Collect Raw Data,  Clean Data, Filter Data, Delete Missing Value, Tide-up Data, Join Data\n",
    "### Split Up Data \n",
    "### Duplicate Data\n",
    "## Final Data for Analysis"
   ]
  },
  {
   "cell_type": "markdown",
   "metadata": {},
   "source": [
    "# Content\n",
    "### 1- Hundle Missing Value\n",
    "### 2- Data Formating\n",
    "### 3- Data Normilization\n",
    "###     *- Scaling\n",
    "###     *- Centralizing\n",
    "### 1- Data Binning\n",
    "###     *- For Groups of Data \n",
    "### 1- Making Dummies or Categorical Data \n",
    "###     *- Categorical ----> Nomarical Data\n"
   ]
  },
  {
   "cell_type": "code",
   "execution_count": null,
   "metadata": {},
   "outputs": [],
   "source": [
    "#instal important library\n",
    "#pip install pandas\n",
    "#pip install numpy\n",
    "#pip install seaborn\n",
    "\n",
    "# import the library\n",
    "\n",
    "import pandas as pd\n",
    "import numpy as np\n",
    "import seaborn as sns\n"
   ]
  },
  {
   "cell_type": "code",
   "execution_count": null,
   "metadata": {},
   "outputs": [],
   "source": [
    "kasti= sns.load_dataset('titanic')\n",
    "ks1=kasti\n",
    "ks2=kasti\n",
    "\n"
   ]
  },
  {
   "cell_type": "code",
   "execution_count": null,
   "metadata": {},
   "outputs": [],
   "source": [
    "#Simple operation\n",
    "kasti =  (kasti['age']*6).head(10)\n",
    "\n",
    "kasti.head()"
   ]
  },
  {
   "cell_type": "markdown",
   "metadata": {},
   "source": [
    "# Dealing With Missing Value\n",
    "Missing Value like , N/A NaN,0 Blank cell\n",
    "## Step For dealing with missing value\n",
    "### try to collect again the Data\n",
    "### remove the colum if not effect on the data or simple remove the row \n",
    "### Replace the Missing Value\n",
    "    Avarge value of entire variable or similar data point\n",
    "    frequency or MOD replacement\n",
    "    Replace on the base of other data\n",
    "    ML algo use\n"
   ]
  },
  {
   "cell_type": "code",
   "execution_count": null,
   "metadata": {},
   "outputs": [],
   "source": [
    "# Check Where exactly missing Values are?\n",
    "kasti.isnull().sum()\n",
    "kasti.shape"
   ]
  },
  {
   "cell_type": "code",
   "execution_count": null,
   "metadata": {},
   "outputs": [],
   "source": [
    "# Use the Dropna Method for removing the Missng value colum\n",
    "kasti.dropna(subset=['deck'], axis=0, inplace=True )\n",
    "kasti.shape"
   ]
  },
  {
   "cell_type": "code",
   "execution_count": null,
   "metadata": {},
   "outputs": [],
   "source": [
    "kasti.isnull().sum()"
   ]
  },
  {
   "cell_type": "code",
   "execution_count": null,
   "metadata": {},
   "outputs": [],
   "source": [
    "# remove  Na from whole dataframe\n",
    "kasti=kasti.dropna()\n",
    "kasti.isnull().sum()\n"
   ]
  },
  {
   "cell_type": "code",
   "execution_count": null,
   "metadata": {},
   "outputs": [],
   "source": [
    "kasti.shape"
   ]
  },
  {
   "cell_type": "code",
   "execution_count": null,
   "metadata": {},
   "outputs": [],
   "source": [
    "ks1.isnull().sum()"
   ]
  },
  {
   "cell_type": "markdown",
   "metadata": {},
   "source": [
    "# Replacing the missing  Value with avarge of that colum"
   ]
  },
  {
   "cell_type": "code",
   "execution_count": null,
   "metadata": {},
   "outputs": [],
   "source": [
    "#Finding the Avarge mean\n",
    "mean= ks1['age'].mean()\n",
    "mean"
   ]
  },
  {
   "cell_type": "code",
   "execution_count": null,
   "metadata": {},
   "outputs": [],
   "source": [
    "# Replacing the Missing value in age colum with the  Avg value\n",
    "ks1['age']=ks1['age'].replace(np.nan, mean)\n",
    "\n",
    "\n"
   ]
  },
  {
   "cell_type": "code",
   "execution_count": null,
   "metadata": {},
   "outputs": [],
   "source": [
    "# How to replacce the  deck value withh the mean value\n",
    "\n",
    "# to work again\n",
    "\n",
    "#ks1['deck']=ks1['deck'].replace(np.nan, mean)\n",
    "#ks1.isnull().sum()\n",
    "#ks1['deck']"
   ]
  },
  {
   "cell_type": "code",
   "execution_count": null,
   "metadata": {},
   "outputs": [],
   "source": [
    "ks1.head()"
   ]
  },
  {
   "cell_type": "code",
   "execution_count": null,
   "metadata": {},
   "outputs": [],
   "source": [
    "ks1['embarked']=ks1['embarked'].dropna()\n",
    "ks1.isnull().sum()"
   ]
  },
  {
   "cell_type": "markdown",
   "metadata": {},
   "source": [
    "# Data Formatting\n",
    "    Make a data as a standard\n",
    "    must be data is consitant or understandable"
   ]
  },
  {
   "cell_type": "code",
   "execution_count": null,
   "metadata": {},
   "outputs": [],
   "source": [
    "#know the data type and type coverting\n",
    "kasti.dtypes"
   ]
  },
  {
   "cell_type": "code",
   "execution_count": null,
   "metadata": {},
   "outputs": [],
   "source": [
    "# use this method to convert datatype with another   format\n",
    "\n",
    "kasti['survived']=kasti['survived'].astype('int64')\n",
    "kasti.dtypes"
   ]
  },
  {
   "cell_type": "code",
   "execution_count": null,
   "metadata": {},
   "outputs": [],
   "source": [
    "# convert age year into days\n",
    "ks1['age']=ks1['age']*365\n",
    "ks1.head()"
   ]
  },
  {
   "cell_type": "code",
   "execution_count": null,
   "metadata": {},
   "outputs": [],
   "source": [
    "#always rename afterward\n",
    "ks1.rename(columns={'age': 'Age in days'}, inplace=True)\n",
    "ks1.head()"
   ]
  },
  {
   "cell_type": "markdown",
   "metadata": {},
   "source": [
    "# Data Normalization    \n",
    "uniform the data\n",
    "they have same impact"
   ]
  },
  {
   "cell_type": "code",
   "execution_count": null,
   "metadata": {},
   "outputs": [],
   "source": [
    "ks2.head()"
   ]
  },
  {
   "cell_type": "code",
   "execution_count": null,
   "metadata": {},
   "outputs": [],
   "source": [
    "kastii= sns.load_dataset('titanic')\n",
    "ks4=kastii\n",
    "kastii['age']=kastii['age']*12\n"
   ]
  },
  {
   "cell_type": "markdown",
   "metadata": {},
   "source": [
    "# Method of normalization\n",
    "    simple feature scaling\n",
    "    x(new)= x(old)/x(max)\n",
    "Min-max method\n",
    "Z-scoring  \n",
    "log transformation"
   ]
  },
  {
   "cell_type": "code",
   "execution_count": null,
   "metadata": {},
   "outputs": [],
   "source": [
    "ks3=kastii [['age','fare']]\n",
    "ks3.head()"
   ]
  },
  {
   "cell_type": "code",
   "execution_count": null,
   "metadata": {},
   "outputs": [],
   "source": [
    "# Simple Feature Scaling\n",
    "ks3['fare']=ks3['fare']/ks3['fare'].max()\n",
    "ks3['age']=ks3['age']/ks3['age'].max()\n",
    "ks3.head()"
   ]
  },
  {
   "cell_type": "code",
   "execution_count": null,
   "metadata": {},
   "outputs": [],
   "source": [
    "# Min to Max method\n",
    "ks3['fare']=(ks3['fare']-ks3['fare'].min())/(ks3['fare'].max()-ks3['fare'].min())\n",
    "ks3.head()"
   ]
  },
  {
   "cell_type": "code",
   "execution_count": null,
   "metadata": {},
   "outputs": [],
   "source": [
    "# Z-scrore method\n",
    "ks3['fare']=(ks3['fare']-ks3['fare'].mean ())/(ks3['fare'].std())\n",
    "ks3"
   ]
  },
  {
   "cell_type": "markdown",
   "metadata": {},
   "source": [
    "# log formation"
   ]
  },
  {
   "cell_type": "code",
   "execution_count": null,
   "metadata": {},
   "outputs": [],
   "source": [
    "ks4.head()"
   ]
  },
  {
   "cell_type": "code",
   "execution_count": null,
   "metadata": {},
   "outputs": [],
   "source": [
    "ks4['fare']= np.log(ks4['fare'])\n",
    "ks4.head()"
   ]
  },
  {
   "cell_type": "markdown",
   "metadata": {},
   "source": [
    "# Binning\n"
   ]
  },
  {
   "cell_type": "code",
   "execution_count": null,
   "metadata": {},
   "outputs": [],
   "source": [
    "bins= np.linspace (min(kastii['age']), max(kastii['age']),1500)\n",
    "age_group=[\" Adult\",\" Young\",\"old\"]\n",
    "kastii['age']=pd.cut (kastii['age'], bins, labels=age_group, include_lowest=True)\n",
    "kastii['age']"
   ]
  },
  {
   "cell_type": "code",
   "execution_count": null,
   "metadata": {},
   "outputs": [],
   "source": []
  }
 ],
 "metadata": {
  "interpreter": {
   "hash": "5ea930ce6455eac13d9956e19095ce7677185839dc80cf4db258aee80f108dca"
  },
  "kernelspec": {
   "display_name": "Python 3.9.7 ('base')",
   "language": "python",
   "name": "python3"
  },
  "language_info": {
   "codemirror_mode": {
    "name": "ipython",
    "version": 3
   },
   "file_extension": ".py",
   "mimetype": "text/x-python",
   "name": "python",
   "nbconvert_exporter": "python",
   "pygments_lexer": "ipython3",
   "version": "3.9.7"
  },
  "orig_nbformat": 4
 },
 "nbformat": 4,
 "nbformat_minor": 2
}
